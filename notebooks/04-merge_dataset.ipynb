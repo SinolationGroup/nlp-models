{
 "cells": [
  {
   "cell_type": "code",
   "execution_count": 68,
   "metadata": {},
   "outputs": [],
   "source": [
    "import pandas as pd\n",
    "from random import sample, choice"
   ]
  },
  {
   "cell_type": "markdown",
   "metadata": {},
   "source": [
    "# Load data"
   ]
  },
  {
   "cell_type": "code",
   "execution_count": 45,
   "metadata": {},
   "outputs": [
    {
     "data": {
      "text/html": [
       "<div>\n",
       "<style scoped>\n",
       "    .dataframe tbody tr th:only-of-type {\n",
       "        vertical-align: middle;\n",
       "    }\n",
       "\n",
       "    .dataframe tbody tr th {\n",
       "        vertical-align: top;\n",
       "    }\n",
       "\n",
       "    .dataframe thead th {\n",
       "        text-align: right;\n",
       "    }\n",
       "</style>\n",
       "<table border=\"1\" class=\"dataframe\">\n",
       "  <thead>\n",
       "    <tr style=\"text-align: right;\">\n",
       "      <th></th>\n",
       "      <th>question_id</th>\n",
       "      <th>question_keyword</th>\n",
       "      <th>question_type</th>\n",
       "    </tr>\n",
       "  </thead>\n",
       "  <tbody>\n",
       "    <tr>\n",
       "      <th>0</th>\n",
       "      <td>benefit_search-preventive_care-1</td>\n",
       "      <td>Preventive care</td>\n",
       "      <td>1</td>\n",
       "    </tr>\n",
       "    <tr>\n",
       "      <th>1</th>\n",
       "      <td>benefit_search-preventive_care-2</td>\n",
       "      <td>Preventive care</td>\n",
       "      <td>2</td>\n",
       "    </tr>\n",
       "    <tr>\n",
       "      <th>2</th>\n",
       "      <td>benefit_search-preventive_care-1</td>\n",
       "      <td>Abdominal aortic aneurysm screening</td>\n",
       "      <td>1</td>\n",
       "    </tr>\n",
       "    <tr>\n",
       "      <th>3</th>\n",
       "      <td>benefit_search-preventive_care-2</td>\n",
       "      <td>Abdominal aortic aneurysm screening</td>\n",
       "      <td>2</td>\n",
       "    </tr>\n",
       "    <tr>\n",
       "      <th>4</th>\n",
       "      <td>benefit_search-preventive_care-1</td>\n",
       "      <td>Alcohol misuse screenings &amp; counseling</td>\n",
       "      <td>1</td>\n",
       "    </tr>\n",
       "  </tbody>\n",
       "</table>\n",
       "</div>"
      ],
      "text/plain": [
       "                        question_id                        question_keyword  \\\n",
       "0  benefit_search-preventive_care-1                         Preventive care   \n",
       "1  benefit_search-preventive_care-2                         Preventive care   \n",
       "2  benefit_search-preventive_care-1     Abdominal aortic aneurysm screening   \n",
       "3  benefit_search-preventive_care-2     Abdominal aortic aneurysm screening   \n",
       "4  benefit_search-preventive_care-1  Alcohol misuse screenings & counseling   \n",
       "\n",
       "   question_type  \n",
       "0              1  \n",
       "1              2  \n",
       "2              1  \n",
       "3              2  \n",
       "4              1  "
      ]
     },
     "execution_count": 45,
     "metadata": {},
     "output_type": "execute_result"
    }
   ],
   "source": [
    "df = pd.read_csv('../data/interim/processed_dataset.csv')\n",
    "df.drop_duplicates(inplace=True)\n",
    "df.reset_index(inplace=True, )\n",
    "df.drop(['index', 'question_subcategory', 'train_phase', 'question_description'], axis=1, inplace=True)\n",
    "df.head()"
   ]
  },
  {
   "cell_type": "markdown",
   "metadata": {},
   "source": [
    "# Load phrases"
   ]
  },
  {
   "cell_type": "code",
   "execution_count": 46,
   "metadata": {},
   "outputs": [
    {
     "name": "stdout",
     "output_type": "stream",
     "text": [
      "<class 'pandas.core.frame.DataFrame'>\n",
      "Int64Index: 171 entries, 0 to 79\n",
      "Data columns (total 3 columns):\n",
      " #   Column         Non-Null Count  Dtype \n",
      "---  ------         --------------  ----- \n",
      " 0   question       171 non-null    object\n",
      " 1   question_type  171 non-null    int64 \n",
      " 2   insert         171 non-null    bool  \n",
      "dtypes: bool(1), int64(1), object(1)\n",
      "memory usage: 4.2+ KB\n",
      "None\n"
     ]
    },
    {
     "data": {
      "text/html": [
       "<div>\n",
       "<style scoped>\n",
       "    .dataframe tbody tr th:only-of-type {\n",
       "        vertical-align: middle;\n",
       "    }\n",
       "\n",
       "    .dataframe tbody tr th {\n",
       "        vertical-align: top;\n",
       "    }\n",
       "\n",
       "    .dataframe thead th {\n",
       "        text-align: right;\n",
       "    }\n",
       "</style>\n",
       "<table border=\"1\" class=\"dataframe\">\n",
       "  <thead>\n",
       "    <tr style=\"text-align: right;\">\n",
       "      <th></th>\n",
       "      <th>question</th>\n",
       "      <th>question_type</th>\n",
       "      <th>insert</th>\n",
       "    </tr>\n",
       "  </thead>\n",
       "  <tbody>\n",
       "    <tr>\n",
       "      <th>0</th>\n",
       "      <td>Which plans cover ...?</td>\n",
       "      <td>1</td>\n",
       "      <td>True</td>\n",
       "    </tr>\n",
       "    <tr>\n",
       "      <th>1</th>\n",
       "      <td>Which plan offers ...?</td>\n",
       "      <td>1</td>\n",
       "      <td>True</td>\n",
       "    </tr>\n",
       "    <tr>\n",
       "      <th>2</th>\n",
       "      <td>Which plan has ... coverage?</td>\n",
       "      <td>1</td>\n",
       "      <td>True</td>\n",
       "    </tr>\n",
       "    <tr>\n",
       "      <th>3</th>\n",
       "      <td>Which plans offer ... coverage?</td>\n",
       "      <td>1</td>\n",
       "      <td>True</td>\n",
       "    </tr>\n",
       "    <tr>\n",
       "      <th>4</th>\n",
       "      <td>plans offer ...</td>\n",
       "      <td>1</td>\n",
       "      <td>True</td>\n",
       "    </tr>\n",
       "  </tbody>\n",
       "</table>\n",
       "</div>"
      ],
      "text/plain": [
       "                          question  question_type  insert\n",
       "0           Which plans cover ...?              1    True\n",
       "1           Which plan offers ...?              1    True\n",
       "2     Which plan has ... coverage?              1    True\n",
       "3  Which plans offer ... coverage?              1    True\n",
       "4                  plans offer ...              1    True"
      ]
     },
     "execution_count": 46,
     "metadata": {},
     "output_type": "execute_result"
    }
   ],
   "source": [
    "phrase_df = pd.DataFrame({'question':[], 'question_type':[]})\n",
    "phrase_df['question_type'] = phrase_df['question_type'].astype(int)\n",
    "for i in range(1, 5):\n",
    "    temp_df = pd.read_excel('../data/external/paraphrased_questions.xlsx', sheet_name=f\"question_type_{i}\")\n",
    "    temp_df['question_type'] = int(i)\n",
    "    phrase_df = pd.concat(objs=[phrase_df, temp_df])\n",
    "phrase_df['question'] = phrase_df['question'].str.replace('…', '...', regex=False)\n",
    "phrase_df['insert'] = phrase_df['question'].str.contains('...', regex=False) \n",
    "print(phrase_df.info())\n",
    "phrase_df.head()"
   ]
  },
  {
   "cell_type": "code",
   "execution_count": 47,
   "metadata": {},
   "outputs": [
    {
     "data": {
      "text/plain": [
       "(4    80\n",
       " 2    43\n",
       " 3    29\n",
       " 1    19\n",
       " Name: question_type, dtype: int64,\n",
       " True     93\n",
       " False    78\n",
       " Name: insert, dtype: int64)"
      ]
     },
     "execution_count": 47,
     "metadata": {},
     "output_type": "execute_result"
    }
   ],
   "source": [
    "phrase_df.question_type.value_counts(), phrase_df['insert'].value_counts(dropna=False)\n"
   ]
  },
  {
   "cell_type": "markdown",
   "metadata": {},
   "source": [
    "# Merge data"
   ]
  },
  {
   "cell_type": "code",
   "execution_count": 226,
   "metadata": {},
   "outputs": [],
   "source": [
    "def uncapitalize(s):\n",
    "    return s[:1].lower() + s[1:] if s else ''\n",
    "\n",
    "def keyword_aug(s):\n",
    "    words = s.split()\n",
    "    if choice([0,1]) and len(words)>5:\n",
    "        range_top = choice(list(range(6, 15)))\n",
    "        s = \" \".join(words[:range_top])\n",
    "    if choice([0,1]):\n",
    "        s = s.lower()\n",
    "    else:\n",
    "        s = uncapitalize(s) if not s[1].isupper() else s\n",
    "    return s"
   ]
  },
  {
   "cell_type": "code",
   "execution_count": 227,
   "metadata": {},
   "outputs": [],
   "source": [
    "merged_dataset = pd.DataFrame({'data':[],'label':[]})\n",
    "\n",
    "# dataset_list = []\n",
    "# for idx, row in df.iteritems():\n",
    "#     data_dict = {}\n",
    "#     question_type = row['question_type']\n",
    "#     mask = phrase_df.question_type == question_type\n",
    "#     phrases = phrase_df[mask].\n",
    "\n",
    "dataset_list = []\n",
    "for type_idx in range(5):\n",
    "    mask = (df.question_type == type_idx) & (~df.question_keyword.isnull())\n",
    "    target_questions = df[mask].copy()\n",
    "    if type_idx>0:\n",
    "        mask = phrase_df.question_type == type_idx\n",
    "        target_phrases = phrase_df[mask].question.values\n",
    "        insert_flags = phrase_df[mask].question_type.values\n",
    "    \n",
    "        for _, row in target_questions.iterrows():\n",
    "            k = row['question_keyword']\n",
    "            l = row['question_id']\n",
    "            data_dict = {}\n",
    "            data_dict['question'] = k\n",
    "            data_dict['label'] = l\n",
    "            data_dict['question_type'] = type_idx\n",
    "            dataset_list.append(data_dict)\n",
    "            \n",
    "            for phrase, insert_flag in zip(target_phrases, insert_flags):\n",
    "                q = phrase.replace('...', keyword_aug(k))\n",
    "                \n",
    "                data_dict = {}\n",
    "                data_dict['question'] = q\n",
    "                data_dict['label'] = l\n",
    "                data_dict['question_type'] = type_idx\n",
    "                dataset_list.append(data_dict)\n",
    "                \n",
    "    elif type_idx==0:\n",
    "        mask = phrase_df.question_type == 1\n",
    "        target_phrases_left = phrase_df[mask].question.values\n",
    "        insert_flags_left = phrase_df[mask].question_type.values\n",
    "        \n",
    "        mask = phrase_df.question_type == 2\n",
    "        target_phrases_right = phrase_df[mask].question.str.lower().values\n",
    "        insert_flags_right = phrase_df[mask].question_type.values\n",
    "    \n",
    "        for _, row in target_questions.iterrows():\n",
    "            k = row['question_keyword']\n",
    "            l = row['question_id']\n",
    "            data_dict = {}\n",
    "            data_dict['question'] = k\n",
    "            data_dict['label'] = l\n",
    "            data_dict['question_type'] = type_idx\n",
    "            dataset_list.append(data_dict)\n",
    "            \n",
    "            for phrase_left in target_phrases_left:\n",
    "                phrase_right = choice(target_phrases_right)\n",
    "                q = phrase_left.replace('...', keyword_aug(k)).replace('?','') + ' and ' + phrase_right.replace('...', choice(['it', 'this', 'the', '']))\n",
    "                \n",
    "                data_dict = {}\n",
    "                data_dict['question'] = q\n",
    "                data_dict['label'] = l\n",
    "                data_dict['question_type'] = type_idx\n",
    "                dataset_list.append(data_dict)\n",
    "            "
   ]
  },
  {
   "cell_type": "code",
   "execution_count": 228,
   "metadata": {},
   "outputs": [
    {
     "name": "stdout",
     "output_type": "stream",
     "text": [
      "<class 'pandas.core.frame.DataFrame'>\n",
      "Int64Index: 297314 entries, 0 to 300287\n",
      "Data columns (total 3 columns):\n",
      " #   Column         Non-Null Count   Dtype \n",
      "---  ------         --------------   ----- \n",
      " 0   question       297314 non-null  object\n",
      " 1   label          297314 non-null  object\n",
      " 2   question_type  297314 non-null  int64 \n",
      "dtypes: int64(1), object(2)\n",
      "memory usage: 9.1+ MB\n",
      "None\n"
     ]
    },
    {
     "data": {
      "text/html": [
       "<div>\n",
       "<style scoped>\n",
       "    .dataframe tbody tr th:only-of-type {\n",
       "        vertical-align: middle;\n",
       "    }\n",
       "\n",
       "    .dataframe tbody tr th {\n",
       "        vertical-align: top;\n",
       "    }\n",
       "\n",
       "    .dataframe thead th {\n",
       "        text-align: right;\n",
       "    }\n",
       "</style>\n",
       "<table border=\"1\" class=\"dataframe\">\n",
       "  <thead>\n",
       "    <tr style=\"text-align: right;\">\n",
       "      <th></th>\n",
       "      <th>question</th>\n",
       "      <th>label</th>\n",
       "      <th>question_type</th>\n",
       "    </tr>\n",
       "  </thead>\n",
       "  <tbody>\n",
       "    <tr>\n",
       "      <th>0</th>\n",
       "      <td>LYUMJEV</td>\n",
       "      <td>benefit_search-pharmacy-1</td>\n",
       "      <td>0</td>\n",
       "    </tr>\n",
       "    <tr>\n",
       "      <th>1</th>\n",
       "      <td>Which plans cover LYUMJEV and what is the pric...</td>\n",
       "      <td>benefit_search-pharmacy-1</td>\n",
       "      <td>0</td>\n",
       "    </tr>\n",
       "    <tr>\n",
       "      <th>2</th>\n",
       "      <td>Which plan offers lyumjev and price list for it</td>\n",
       "      <td>benefit_search-pharmacy-1</td>\n",
       "      <td>0</td>\n",
       "    </tr>\n",
       "    <tr>\n",
       "      <th>3</th>\n",
       "      <td>Which plan has lyumjev coverage and this cost</td>\n",
       "      <td>benefit_search-pharmacy-1</td>\n",
       "      <td>0</td>\n",
       "    </tr>\n",
       "    <tr>\n",
       "      <th>4</th>\n",
       "      <td>Which plans offer lyumjev coverage and is it f...</td>\n",
       "      <td>benefit_search-pharmacy-1</td>\n",
       "      <td>0</td>\n",
       "    </tr>\n",
       "  </tbody>\n",
       "</table>\n",
       "</div>"
      ],
      "text/plain": [
       "                                            question  \\\n",
       "0                                            LYUMJEV   \n",
       "1  Which plans cover LYUMJEV and what is the pric...   \n",
       "2    Which plan offers lyumjev and price list for it   \n",
       "3      Which plan has lyumjev coverage and this cost   \n",
       "4  Which plans offer lyumjev coverage and is it f...   \n",
       "\n",
       "                       label  question_type  \n",
       "0  benefit_search-pharmacy-1              0  \n",
       "1  benefit_search-pharmacy-1              0  \n",
       "2  benefit_search-pharmacy-1              0  \n",
       "3  benefit_search-pharmacy-1              0  \n",
       "4  benefit_search-pharmacy-1              0  "
      ]
     },
     "execution_count": 228,
     "metadata": {},
     "output_type": "execute_result"
    }
   ],
   "source": [
    "dataset_df = pd.DataFrame(dataset_list)\n",
    "dataset_df.drop_duplicates(inplace=True)\n",
    "print(dataset_df.info())\n",
    "dataset_df.head()"
   ]
  },
  {
   "cell_type": "code",
   "execution_count": 229,
   "metadata": {},
   "outputs": [],
   "source": [
    "dataset_df.to_csv('../data/processed/dataset.csv', index=False)"
   ]
  },
  {
   "cell_type": "code",
   "execution_count": 209,
   "metadata": {},
   "outputs": [
    {
     "data": {
      "text/plain": [
       "benefit_search-pharmacy-1                              109440\n",
       "benefit_search-lab_services-2                           74354\n",
       "benefit_search-lab_services-1                           34156\n",
       "benefit_search-outpatient_X-rays-2                       6791\n",
       "benefit_search-diagnostic_radiology-2                    5171\n",
       "                                                        ...  \n",
       "benefit_search-blood_sugar_meters-1                        20\n",
       "benefit_search-blood_sugar_test_strips-1                   20\n",
       "benefit_search-equipment,_prosthetics,_&_supplies-1        20\n",
       "benefit_search-canes-1                                     20\n",
       "benefit_search-hearing_aids-1                              20\n",
       "Name: label, Length: 296, dtype: int64"
      ]
     },
     "execution_count": 209,
     "metadata": {},
     "output_type": "execute_result"
    }
   ],
   "source": [
    "dataset_df.label.value_counts()"
   ]
  },
  {
   "cell_type": "code",
   "execution_count": null,
   "metadata": {},
   "outputs": [],
   "source": []
  }
 ],
 "metadata": {
  "kernelspec": {
   "display_name": "Python 3.8.10 ('.env': venv)",
   "language": "python",
   "name": "python3"
  },
  "language_info": {
   "codemirror_mode": {
    "name": "ipython",
    "version": 3
   },
   "file_extension": ".py",
   "mimetype": "text/x-python",
   "name": "python",
   "nbconvert_exporter": "python",
   "pygments_lexer": "ipython3",
   "version": "3.8.10"
  },
  "orig_nbformat": 4,
  "vscode": {
   "interpreter": {
    "hash": "97e32ed2c1f3abd45698da4d152fbdc4beb8bc3fa5c12b06d3cc23a6a3ee02e5"
   }
  }
 },
 "nbformat": 4,
 "nbformat_minor": 2
}
