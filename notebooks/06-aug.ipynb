{
 "cells": [
  {
   "cell_type": "code",
   "execution_count": 1,
   "metadata": {},
   "outputs": [],
   "source": [
    "import nlpaug.flow as naf\n",
    "import nlpaug.augmenter.char as nac\n",
    "import nlpaug.augmenter.word as naw\n",
    "from src.data.augmentation import NLPTransform, OneOfTransfroms, ComposeAug"
   ]
  },
  {
   "cell_type": "code",
   "execution_count": 2,
   "metadata": {},
   "outputs": [
    {
     "data": {
      "text/plain": [
       "'is want to talk to omeone at companie'"
      ]
     },
     "execution_count": 2,
     "metadata": {},
     "output_type": "execute_result"
    }
   ],
   "source": [
    "transform = [\n",
    "    OneOfTransfroms([\n",
    "        NLPTransform(nac.KeyboardAug(aug_char_max=1, \n",
    "                                     aug_word_max=3), \n",
    "                     p=1),\n",
    "        NLPTransform(naw.SpellingAug(aug_max=3), \n",
    "                     p=1)],\n",
    "        p=0.5),]\n",
    "aug = ComposeAug(transform)\n",
    "aug('i want to talk to someone at company')"
   ]
  },
  {
   "cell_type": "code",
   "execution_count": 3,
   "metadata": {},
   "outputs": [
    {
     "data": {
      "text/plain": [
       "Name:Keyboard_Aug, Action:substitute, Method:char\n",
       "Name:Spelling_Aug, Action:substitute, Method:word"
      ]
     },
     "execution_count": 3,
     "metadata": {},
     "output_type": "execute_result"
    }
   ],
   "source": [
    "aug"
   ]
  },
  {
   "cell_type": "code",
   "execution_count": 4,
   "metadata": {},
   "outputs": [
    {
     "data": {
      "text/plain": [
       "{'name': 'Compose',\n",
       " 'transforms': [{'name': 'OneOf',\n",
       "   'transforms': [{'name': 'Keyboard_Aug',\n",
       "     'transform': 'Name:Keyboard_Aug, Action:substitute, Method:char',\n",
       "     'p': 1},\n",
       "    {'name': 'Spelling_Aug',\n",
       "     'transform': 'Name:Spelling_Aug, Action:substitute, Method:word',\n",
       "     'p': 1}],\n",
       "   'p': 0.5}],\n",
       " 'p': 1.0}"
      ]
     },
     "execution_count": 4,
     "metadata": {},
     "output_type": "execute_result"
    }
   ],
   "source": [
    "aug.to_dict()"
   ]
  },
  {
   "cell_type": "code",
   "execution_count": 6,
   "metadata": {},
   "outputs": [
    {
     "data": {
      "text/plain": []
     },
     "execution_count": 6,
     "metadata": {},
     "output_type": "execute_result"
    }
   ],
   "source": [
    "aug = ComposeAug([])\n",
    "aug"
   ]
  }
 ],
 "metadata": {
  "kernelspec": {
   "display_name": "Python 3.8.10 ('.env': venv)",
   "language": "python",
   "name": "python3"
  },
  "language_info": {
   "codemirror_mode": {
    "name": "ipython",
    "version": 3
   },
   "file_extension": ".py",
   "mimetype": "text/x-python",
   "name": "python",
   "nbconvert_exporter": "python",
   "pygments_lexer": "ipython3",
   "version": "3.8.10"
  },
  "orig_nbformat": 4,
  "vscode": {
   "interpreter": {
    "hash": "97e32ed2c1f3abd45698da4d152fbdc4beb8bc3fa5c12b06d3cc23a6a3ee02e5"
   }
  }
 },
 "nbformat": 4,
 "nbformat_minor": 2
}
