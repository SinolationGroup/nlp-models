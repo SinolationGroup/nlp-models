{
 "cells": [
  {
   "cell_type": "code",
   "execution_count": 1,
   "metadata": {},
   "outputs": [],
   "source": [
    "from transformers import AutoTokenizer,AutoModelForSequenceClassification\n",
    "import torch"
   ]
  },
  {
   "cell_type": "code",
   "execution_count": 2,
   "metadata": {},
   "outputs": [],
   "source": [
    "tokenizer = AutoTokenizer.from_pretrained(\"distilbert-base-uncased\")"
   ]
  },
  {
   "cell_type": "code",
   "execution_count": 4,
   "metadata": {},
   "outputs": [
    {
     "data": {
      "application/json": {
       "ascii": false,
       "bar_format": null,
       "colour": null,
       "elapsed": 0.02363896369934082,
       "initial": 0,
       "n": 0,
       "ncols": null,
       "nrows": null,
       "postfix": null,
       "prefix": "Downloading config.json",
       "rate": null,
       "total": 411,
       "unit": "B",
       "unit_divisor": 1024,
       "unit_scale": true
      },
      "application/vnd.jupyter.widget-view+json": {
       "model_id": "925e6f853a0c4adfbcd89f031b6700bf",
       "version_major": 2,
       "version_minor": 0
      },
      "text/plain": [
       "Downloading config.json:   0%|          | 0.00/411 [00:00<?, ?B/s]"
      ]
     },
     "metadata": {},
     "output_type": "display_data"
    },
    {
     "data": {
      "application/json": {
       "ascii": false,
       "bar_format": null,
       "colour": null,
       "elapsed": 0.014053106307983398,
       "initial": 0,
       "n": 0,
       "ncols": null,
       "nrows": null,
       "postfix": null,
       "prefix": "Downloading pytorch_model.bin",
       "rate": null,
       "total": 263273408,
       "unit": "B",
       "unit_divisor": 1024,
       "unit_scale": true
      },
      "application/vnd.jupyter.widget-view+json": {
       "model_id": "0da91c76d0ff4606ae5ed361d20e1bf0",
       "version_major": 2,
       "version_minor": 0
      },
      "text/plain": [
       "Downloading pytorch_model.bin:   0%|          | 0.00/251M [00:00<?, ?B/s]"
      ]
     },
     "metadata": {},
     "output_type": "display_data"
    },
    {
     "name": "stderr",
     "output_type": "stream",
     "text": [
      "Some weights of the model checkpoint at distilbert-base-cased were not used when initializing DistilBertForSequenceClassification: ['vocab_layer_norm.weight', 'vocab_projector.bias', 'vocab_layer_norm.bias', 'vocab_transform.bias', 'vocab_projector.weight', 'vocab_transform.weight']\n",
      "- This IS expected if you are initializing DistilBertForSequenceClassification from the checkpoint of a model trained on another task or with another architecture (e.g. initializing a BertForSequenceClassification model from a BertForPreTraining model).\n",
      "- This IS NOT expected if you are initializing DistilBertForSequenceClassification from the checkpoint of a model that you expect to be exactly identical (initializing a BertForSequenceClassification model from a BertForSequenceClassification model).\n",
      "Some weights of DistilBertForSequenceClassification were not initialized from the model checkpoint at distilbert-base-cased and are newly initialized: ['pre_classifier.weight', 'classifier.bias', 'classifier.weight', 'pre_classifier.bias']\n",
      "You should probably TRAIN this model on a down-stream task to be able to use it for predictions and inference.\n"
     ]
    }
   ],
   "source": [
    "model = AutoModelForSequenceClassification.from_pretrained(\"distilbert-base-cased\", num_labels=249)"
   ]
  },
  {
   "cell_type": "code",
   "execution_count": 27,
   "metadata": {},
   "outputs": [
    {
     "data": {
      "text/plain": [
       "{'input_ids': tensor([[ 101, 2200, 2460, 6251,  102]], dtype=torch.int32), 'attention_mask': tensor([[1., 1., 1., 1., 1.]]), 'labels': tensor([[1]])}"
      ]
     },
     "execution_count": 27,
     "metadata": {},
     "output_type": "execute_result"
    }
   ],
   "source": [
    "tok = tokenizer('very short sentence')\n",
    "tok['input_ids'] = torch.IntTensor(tok['input_ids']).unsqueeze(0)\n",
    "tok['attention_mask'] = torch.FloatTensor(tok['attention_mask']).unsqueeze(0)\n",
    "tok['labels'] = torch.LongTensor([1]).unsqueeze(0)\n",
    "tok"
   ]
  },
  {
   "cell_type": "code",
   "execution_count": 42,
   "metadata": {},
   "outputs": [],
   "source": [
    "model.train()\n",
    "output = model(**tok)"
   ]
  },
  {
   "cell_type": "code",
   "execution_count": 29,
   "metadata": {},
   "outputs": [
    {
     "data": {
      "text/plain": [
       "SequenceClassifierOutput(loss=tensor(5.7902, grad_fn=<NllLossBackward0>), logits=tensor([[-0.0733, -0.2730,  0.0874, -0.2341, -0.0825, -0.1254,  0.1460,  0.1089,\n",
       "         -0.0238,  0.0260,  0.0132, -0.0582,  0.0576, -0.0418,  0.0463, -0.2343,\n",
       "          0.0236,  0.2402,  0.1530, -0.0240,  0.0248, -0.0498, -0.0090, -0.0730,\n",
       "          0.0769,  0.0126,  0.1880, -0.0205, -0.1003, -0.1764, -0.2090, -0.0735,\n",
       "          0.0355,  0.0968, -0.2817,  0.0178,  0.3019,  0.0374,  0.0959,  0.0960,\n",
       "         -0.0586, -0.0078, -0.1070, -0.0422,  0.0511,  0.0527,  0.2269, -0.0964,\n",
       "         -0.1354, -0.1101, -0.1880,  0.2243,  0.0137,  0.0283,  0.1067, -0.0058,\n",
       "          0.1281, -0.0755,  0.0505,  0.1603, -0.0657, -0.0759,  0.1440, -0.0405,\n",
       "          0.0937, -0.1067, -0.1039,  0.0220, -0.1928, -0.2575, -0.1249,  0.0913,\n",
       "          0.0358, -0.1403, -0.0971,  0.0897,  0.0254,  0.0053, -0.0612, -0.1127,\n",
       "         -0.0189,  0.0776, -0.0184, -0.1279, -0.0047, -0.0018, -0.1181, -0.1085,\n",
       "          0.0393,  0.1631, -0.1474, -0.1183,  0.0563,  0.1378,  0.0582,  0.0854,\n",
       "          0.0393, -0.0108, -0.0214, -0.0326,  0.1136,  0.0605,  0.1714, -0.0716,\n",
       "          0.0990,  0.0131,  0.1328, -0.1105,  0.1135, -0.1426,  0.0296,  0.1075,\n",
       "          0.0740,  0.2099, -0.1259, -0.0548,  0.0758, -0.0371, -0.2189, -0.0118,\n",
       "         -0.0844, -0.1195, -0.2436, -0.0284,  0.0434, -0.1092,  0.1468, -0.1685,\n",
       "         -0.0509,  0.2205, -0.0889, -0.0669, -0.0559,  0.0623, -0.1926, -0.1433,\n",
       "          0.0633, -0.0800, -0.0852, -0.2609,  0.0869, -0.1972, -0.0375,  0.2307,\n",
       "          0.0421,  0.1548, -0.1500,  0.1609,  0.0453,  0.0968,  0.0465,  0.0879,\n",
       "          0.0271,  0.1960, -0.0855, -0.1646, -0.0820, -0.0809,  0.0893,  0.1428,\n",
       "         -0.0218, -0.0662,  0.0974,  0.0609, -0.1231, -0.0057, -0.0238,  0.2535,\n",
       "         -0.0803,  0.0170,  0.0859, -0.0431, -0.2113,  0.0477,  0.0134,  0.0319,\n",
       "          0.0208, -0.2451,  0.0763, -0.1059, -0.1588, -0.0030, -0.0099,  0.1642,\n",
       "          0.0049, -0.0774,  0.0870, -0.1147, -0.1198,  0.1102,  0.0968, -0.1604,\n",
       "          0.1052, -0.2273,  0.0533, -0.1032, -0.0256,  0.0860, -0.0406,  0.0417,\n",
       "          0.0585, -0.0523,  0.0818, -0.0557,  0.1644,  0.3033,  0.0029,  0.0640,\n",
       "         -0.1527, -0.0346,  0.0564, -0.0533, -0.0446,  0.0747, -0.0651,  0.1545,\n",
       "         -0.0208, -0.0572,  0.0802, -0.1770, -0.0559, -0.1831,  0.0368,  0.0028,\n",
       "          0.1264,  0.2072, -0.0139,  0.0400,  0.0278,  0.0955,  0.1988, -0.1017,\n",
       "         -0.1678,  0.0877,  0.2199,  0.0743, -0.0855,  0.0045, -0.1231, -0.2430,\n",
       "         -0.0117,  0.0974, -0.1268, -0.2970,  0.0149,  0.2301, -0.1359, -0.2414,\n",
       "         -0.1174]], grad_fn=<AddmmBackward0>), hidden_states=None, attentions=None)"
      ]
     },
     "execution_count": 29,
     "metadata": {},
     "output_type": "execute_result"
    }
   ],
   "source": [
    "output"
   ]
  },
  {
   "cell_type": "code",
   "execution_count": 34,
   "metadata": {},
   "outputs": [
    {
     "data": {
      "text/plain": [
       "tensor([[-0.0733, -0.2730,  0.0874, -0.2341, -0.0825, -0.1254,  0.1460,  0.1089,\n",
       "         -0.0238,  0.0260,  0.0132, -0.0582,  0.0576, -0.0418,  0.0463, -0.2343,\n",
       "          0.0236,  0.2402,  0.1530, -0.0240,  0.0248, -0.0498, -0.0090, -0.0730,\n",
       "          0.0769,  0.0126,  0.1880, -0.0205, -0.1003, -0.1764, -0.2090, -0.0735,\n",
       "          0.0355,  0.0968, -0.2817,  0.0178,  0.3019,  0.0374,  0.0959,  0.0960,\n",
       "         -0.0586, -0.0078, -0.1070, -0.0422,  0.0511,  0.0527,  0.2269, -0.0964,\n",
       "         -0.1354, -0.1101, -0.1880,  0.2243,  0.0137,  0.0283,  0.1067, -0.0058,\n",
       "          0.1281, -0.0755,  0.0505,  0.1603, -0.0657, -0.0759,  0.1440, -0.0405,\n",
       "          0.0937, -0.1067, -0.1039,  0.0220, -0.1928, -0.2575, -0.1249,  0.0913,\n",
       "          0.0358, -0.1403, -0.0971,  0.0897,  0.0254,  0.0053, -0.0612, -0.1127,\n",
       "         -0.0189,  0.0776, -0.0184, -0.1279, -0.0047, -0.0018, -0.1181, -0.1085,\n",
       "          0.0393,  0.1631, -0.1474, -0.1183,  0.0563,  0.1378,  0.0582,  0.0854,\n",
       "          0.0393, -0.0108, -0.0214, -0.0326,  0.1136,  0.0605,  0.1714, -0.0716,\n",
       "          0.0990,  0.0131,  0.1328, -0.1105,  0.1135, -0.1426,  0.0296,  0.1075,\n",
       "          0.0740,  0.2099, -0.1259, -0.0548,  0.0758, -0.0371, -0.2189, -0.0118,\n",
       "         -0.0844, -0.1195, -0.2436, -0.0284,  0.0434, -0.1092,  0.1468, -0.1685,\n",
       "         -0.0509,  0.2205, -0.0889, -0.0669, -0.0559,  0.0623, -0.1926, -0.1433,\n",
       "          0.0633, -0.0800, -0.0852, -0.2609,  0.0869, -0.1972, -0.0375,  0.2307,\n",
       "          0.0421,  0.1548, -0.1500,  0.1609,  0.0453,  0.0968,  0.0465,  0.0879,\n",
       "          0.0271,  0.1960, -0.0855, -0.1646, -0.0820, -0.0809,  0.0893,  0.1428,\n",
       "         -0.0218, -0.0662,  0.0974,  0.0609, -0.1231, -0.0057, -0.0238,  0.2535,\n",
       "         -0.0803,  0.0170,  0.0859, -0.0431, -0.2113,  0.0477,  0.0134,  0.0319,\n",
       "          0.0208, -0.2451,  0.0763, -0.1059, -0.1588, -0.0030, -0.0099,  0.1642,\n",
       "          0.0049, -0.0774,  0.0870, -0.1147, -0.1198,  0.1102,  0.0968, -0.1604,\n",
       "          0.1052, -0.2273,  0.0533, -0.1032, -0.0256,  0.0860, -0.0406,  0.0417,\n",
       "          0.0585, -0.0523,  0.0818, -0.0557,  0.1644,  0.3033,  0.0029,  0.0640,\n",
       "         -0.1527, -0.0346,  0.0564, -0.0533, -0.0446,  0.0747, -0.0651,  0.1545,\n",
       "         -0.0208, -0.0572,  0.0802, -0.1770, -0.0559, -0.1831,  0.0368,  0.0028,\n",
       "          0.1264,  0.2072, -0.0139,  0.0400,  0.0278,  0.0955,  0.1988, -0.1017,\n",
       "         -0.1678,  0.0877,  0.2199,  0.0743, -0.0855,  0.0045, -0.1231, -0.2430,\n",
       "         -0.0117,  0.0974, -0.1268, -0.2970,  0.0149,  0.2301, -0.1359, -0.2414,\n",
       "         -0.1174]], grad_fn=<AddmmBackward0>)"
      ]
     },
     "execution_count": 34,
     "metadata": {},
     "output_type": "execute_result"
    }
   ],
   "source": [
    "output.logits"
   ]
  },
  {
   "cell_type": "code",
   "execution_count": 37,
   "metadata": {},
   "outputs": [
    {
     "data": {
      "text/plain": [
       "tensor([205])"
      ]
     },
     "execution_count": 37,
     "metadata": {},
     "output_type": "execute_result"
    }
   ],
   "source": [
    "torch.argmax(output.logits, dim=-1)"
   ]
  },
  {
   "cell_type": "code",
   "execution_count": 39,
   "metadata": {},
   "outputs": [
    {
     "data": {
      "text/plain": [
       "tensor(1.0000, grad_fn=<SumBackward0>)"
      ]
     },
     "execution_count": 39,
     "metadata": {},
     "output_type": "execute_result"
    }
   ],
   "source": [
    "torch.softmax(output.logits, dim=1)"
   ]
  },
  {
   "cell_type": "code",
   "execution_count": 45,
   "metadata": {},
   "outputs": [
    {
     "data": {
      "text/plain": [
       "tensor([0])"
      ]
     },
     "execution_count": 45,
     "metadata": {},
     "output_type": "execute_result"
    }
   ],
   "source": [
    "output.logits.type(torch.int).argmax(dim=-1)"
   ]
  },
  {
   "cell_type": "code",
   "execution_count": 51,
   "metadata": {},
   "outputs": [
    {
     "data": {
      "text/plain": [
       "torch.Size([1, 1])"
      ]
     },
     "execution_count": 51,
     "metadata": {},
     "output_type": "execute_result"
    }
   ],
   "source": [
    "output.logits.type(torch.int).argmax(dim=-1).unsqueeze(0).shape"
   ]
  },
  {
   "cell_type": "code",
   "execution_count": 3,
   "metadata": {},
   "outputs": [
    {
     "data": {
      "text/plain": [
       "(torch.Size([3]), torch.Size([3, 3]))"
      ]
     },
     "execution_count": 3,
     "metadata": {},
     "output_type": "execute_result"
    }
   ],
   "source": [
    "target = torch.tensor([0, 1, 2])\n",
    "preds = torch.tensor([[0.1, 0.9, 0], [0.3, 0.1, 0.6], [0.2, 0.5, 0.3]])\n",
    "target.shape, preds.shape"
   ]
  },
  {
   "cell_type": "code",
   "execution_count": 12,
   "metadata": {},
   "outputs": [
    {
     "data": {
      "text/plain": [
       "torch.Size([3, 3])"
      ]
     },
     "execution_count": 12,
     "metadata": {},
     "output_type": "execute_result"
    }
   ],
   "source": [
    "preds.unsqueeze(-1).squeeze(-1).shape"
   ]
  }
 ],
 "metadata": {
  "kernelspec": {
   "display_name": "Python 3.8.10 ('.env': venv)",
   "language": "python",
   "name": "python3"
  },
  "language_info": {
   "codemirror_mode": {
    "name": "ipython",
    "version": 3
   },
   "file_extension": ".py",
   "mimetype": "text/x-python",
   "name": "python",
   "nbconvert_exporter": "python",
   "pygments_lexer": "ipython3",
   "version": "3.8.10"
  },
  "orig_nbformat": 4,
  "vscode": {
   "interpreter": {
    "hash": "97e32ed2c1f3abd45698da4d152fbdc4beb8bc3fa5c12b06d3cc23a6a3ee02e5"
   }
  }
 },
 "nbformat": 4,
 "nbformat_minor": 2
}
