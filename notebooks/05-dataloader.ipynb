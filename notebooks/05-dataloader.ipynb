{
 "cells": [
  {
   "cell_type": "code",
   "execution_count": 1,
   "metadata": {},
   "outputs": [],
   "source": [
    "import pandas as pd\n",
    "from sklearn.preprocessing import LabelEncoder\n",
    "from src.data.dataloader import OHLDataModule\n",
    "\n",
    "import pytorch_lightning as pl\n",
    "from lightning_transformers.task.nlp.text_classification import (\n",
    "    TextClassificationDataModule,\n",
    "    TextClassificationTransformer,\n",
    ")"
   ]
  },
  {
   "cell_type": "code",
   "execution_count": 2,
   "metadata": {},
   "outputs": [
    {
     "data": {
      "text/html": [
       "<div>\n",
       "<style scoped>\n",
       "    .dataframe tbody tr th:only-of-type {\n",
       "        vertical-align: middle;\n",
       "    }\n",
       "\n",
       "    .dataframe tbody tr th {\n",
       "        vertical-align: top;\n",
       "    }\n",
       "\n",
       "    .dataframe thead th {\n",
       "        text-align: right;\n",
       "    }\n",
       "</style>\n",
       "<table border=\"1\" class=\"dataframe\">\n",
       "  <thead>\n",
       "    <tr style=\"text-align: right;\">\n",
       "      <th></th>\n",
       "      <th>question</th>\n",
       "      <th>label</th>\n",
       "      <th>question_type</th>\n",
       "    </tr>\n",
       "  </thead>\n",
       "  <tbody>\n",
       "    <tr>\n",
       "      <th>0</th>\n",
       "      <td>LYUMJEV</td>\n",
       "      <td>benefit_search-pharmacy-1</td>\n",
       "      <td>0</td>\n",
       "    </tr>\n",
       "    <tr>\n",
       "      <th>1</th>\n",
       "      <td>Which plans cover LYUMJEV and what is the pric...</td>\n",
       "      <td>benefit_search-pharmacy-1</td>\n",
       "      <td>0</td>\n",
       "    </tr>\n",
       "    <tr>\n",
       "      <th>2</th>\n",
       "      <td>Which plan offers lyumjev and price list for it</td>\n",
       "      <td>benefit_search-pharmacy-1</td>\n",
       "      <td>0</td>\n",
       "    </tr>\n",
       "    <tr>\n",
       "      <th>3</th>\n",
       "      <td>Which plan has lyumjev coverage and this cost</td>\n",
       "      <td>benefit_search-pharmacy-1</td>\n",
       "      <td>0</td>\n",
       "    </tr>\n",
       "    <tr>\n",
       "      <th>4</th>\n",
       "      <td>Which plans offer lyumjev coverage and is it f...</td>\n",
       "      <td>benefit_search-pharmacy-1</td>\n",
       "      <td>0</td>\n",
       "    </tr>\n",
       "  </tbody>\n",
       "</table>\n",
       "</div>"
      ],
      "text/plain": [
       "                                            question  \\\n",
       "0                                            LYUMJEV   \n",
       "1  Which plans cover LYUMJEV and what is the pric...   \n",
       "2    Which plan offers lyumjev and price list for it   \n",
       "3      Which plan has lyumjev coverage and this cost   \n",
       "4  Which plans offer lyumjev coverage and is it f...   \n",
       "\n",
       "                       label  question_type  \n",
       "0  benefit_search-pharmacy-1              0  \n",
       "1  benefit_search-pharmacy-1              0  \n",
       "2  benefit_search-pharmacy-1              0  \n",
       "3  benefit_search-pharmacy-1              0  \n",
       "4  benefit_search-pharmacy-1              0  "
      ]
     },
     "execution_count": 2,
     "metadata": {},
     "output_type": "execute_result"
    }
   ],
   "source": [
    "dataset_df = pd.read_csv('../data/processed/dataset.csv')\n",
    "dataset_df.head()"
   ]
  },
  {
   "cell_type": "code",
   "execution_count": 29,
   "metadata": {},
   "outputs": [
    {
     "data": {
      "text/html": [
       "<div>\n",
       "<style scoped>\n",
       "    .dataframe tbody tr th:only-of-type {\n",
       "        vertical-align: middle;\n",
       "    }\n",
       "\n",
       "    .dataframe tbody tr th {\n",
       "        vertical-align: top;\n",
       "    }\n",
       "\n",
       "    .dataframe thead th {\n",
       "        text-align: right;\n",
       "    }\n",
       "</style>\n",
       "<table border=\"1\" class=\"dataframe\">\n",
       "  <thead>\n",
       "    <tr style=\"text-align: right;\">\n",
       "      <th></th>\n",
       "      <th>label</th>\n",
       "      <th>label</th>\n",
       "    </tr>\n",
       "  </thead>\n",
       "  <tbody>\n",
       "    <tr>\n",
       "      <th>benefit_search-pharmacy-1</th>\n",
       "      <td>109439.0</td>\n",
       "      <td>0.368092</td>\n",
       "    </tr>\n",
       "    <tr>\n",
       "      <th>benefit_search-lab_services-2</th>\n",
       "      <td>73807.0</td>\n",
       "      <td>0.248246</td>\n",
       "    </tr>\n",
       "    <tr>\n",
       "      <th>benefit_search-lab_services-1</th>\n",
       "      <td>34066.0</td>\n",
       "      <td>0.114579</td>\n",
       "    </tr>\n",
       "    <tr>\n",
       "      <th>benefit_search-outpatient_X-rays-2</th>\n",
       "      <td>6708.0</td>\n",
       "      <td>0.022562</td>\n",
       "    </tr>\n",
       "    <tr>\n",
       "      <th>benefit_search-diagnostic_radiology-2</th>\n",
       "      <td>5119.0</td>\n",
       "      <td>0.017217</td>\n",
       "    </tr>\n",
       "    <tr>\n",
       "      <th>benefit_search-outpatient_musculoskeletal_procedure-2</th>\n",
       "      <td>4996.0</td>\n",
       "      <td>0.016804</td>\n",
       "    </tr>\n",
       "    <tr>\n",
       "      <th>benefit_search-outpatient_other_organ_systems_procedure-2</th>\n",
       "      <td>4016.0</td>\n",
       "      <td>0.013508</td>\n",
       "    </tr>\n",
       "    <tr>\n",
       "      <th>benefit_search-outpatient_X-rays-1</th>\n",
       "      <td>3120.0</td>\n",
       "      <td>0.010494</td>\n",
       "    </tr>\n",
       "    <tr>\n",
       "      <th>benefit_search-outpatient_digestive/gastrointestinal_procedure-2</th>\n",
       "      <td>3070.0</td>\n",
       "      <td>0.010326</td>\n",
       "    </tr>\n",
       "    <tr>\n",
       "      <th>benefit_search-diagnostic_radiology-1</th>\n",
       "      <td>2380.0</td>\n",
       "      <td>0.008005</td>\n",
       "    </tr>\n",
       "    <tr>\n",
       "      <th>benefit_search-outpatient_musculoskeletal_procedure-1</th>\n",
       "      <td>2295.0</td>\n",
       "      <td>0.007719</td>\n",
       "    </tr>\n",
       "    <tr>\n",
       "      <th>benefit_search-inpatient_circulatory_system_procedure-2</th>\n",
       "      <td>1995.0</td>\n",
       "      <td>0.006710</td>\n",
       "    </tr>\n",
       "    <tr>\n",
       "      <th>benefit_search-outpatient_other_organ_systems_procedure-1</th>\n",
       "      <td>1848.0</td>\n",
       "      <td>0.006216</td>\n",
       "    </tr>\n",
       "    <tr>\n",
       "      <th>benefit_search-inpatient_musculoskeletal_system_and_connective_tissue_procedure-2</th>\n",
       "      <td>1788.0</td>\n",
       "      <td>0.006014</td>\n",
       "    </tr>\n",
       "    <tr>\n",
       "      <th>benefit_search-outpatient_cardiovascular_procedure-2</th>\n",
       "      <td>1678.0</td>\n",
       "      <td>0.005644</td>\n",
       "    </tr>\n",
       "    <tr>\n",
       "      <th>benefit_search-inpatient_nervous_system_procedure-2</th>\n",
       "      <td>1435.0</td>\n",
       "      <td>0.004827</td>\n",
       "    </tr>\n",
       "    <tr>\n",
       "      <th>benefit_search-preventive_care-2</th>\n",
       "      <td>1422.0</td>\n",
       "      <td>0.004783</td>\n",
       "    </tr>\n",
       "    <tr>\n",
       "      <th>benefit_search-outpatient_digestive/gastrointestinal_procedure-1</th>\n",
       "      <td>1417.0</td>\n",
       "      <td>0.004766</td>\n",
       "    </tr>\n",
       "    <tr>\n",
       "      <th>benefit_search-outpatient_breast_procedure-2</th>\n",
       "      <td>1119.0</td>\n",
       "      <td>0.003764</td>\n",
       "    </tr>\n",
       "    <tr>\n",
       "      <th>benefit_search-dental-2</th>\n",
       "      <td>1075.0</td>\n",
       "      <td>0.003616</td>\n",
       "    </tr>\n",
       "  </tbody>\n",
       "</table>\n",
       "</div>"
      ],
      "text/plain": [
       "                                                       label     label\n",
       "benefit_search-pharmacy-1                           109439.0  0.368092\n",
       "benefit_search-lab_services-2                        73807.0  0.248246\n",
       "benefit_search-lab_services-1                        34066.0  0.114579\n",
       "benefit_search-outpatient_X-rays-2                    6708.0  0.022562\n",
       "benefit_search-diagnostic_radiology-2                 5119.0  0.017217\n",
       "benefit_search-outpatient_musculoskeletal_proce...    4996.0  0.016804\n",
       "benefit_search-outpatient_other_organ_systems_p...    4016.0  0.013508\n",
       "benefit_search-outpatient_X-rays-1                    3120.0  0.010494\n",
       "benefit_search-outpatient_digestive/gastrointes...    3070.0  0.010326\n",
       "benefit_search-diagnostic_radiology-1                 2380.0  0.008005\n",
       "benefit_search-outpatient_musculoskeletal_proce...    2295.0  0.007719\n",
       "benefit_search-inpatient_circulatory_system_pro...    1995.0  0.006710\n",
       "benefit_search-outpatient_other_organ_systems_p...    1848.0  0.006216\n",
       "benefit_search-inpatient_musculoskeletal_system...    1788.0  0.006014\n",
       "benefit_search-outpatient_cardiovascular_proced...    1678.0  0.005644\n",
       "benefit_search-inpatient_nervous_system_procedu...    1435.0  0.004827\n",
       "benefit_search-preventive_care-2                      1422.0  0.004783\n",
       "benefit_search-outpatient_digestive/gastrointes...    1417.0  0.004766\n",
       "benefit_search-outpatient_breast_procedure-2          1119.0  0.003764\n",
       "benefit_search-dental-2                               1075.0  0.003616"
      ]
     },
     "execution_count": 29,
     "metadata": {},
     "output_type": "execute_result"
    }
   ],
   "source": [
    "pd.DataFrame([dataset_df.label.value_counts(), dataset_df.label.value_counts(normalize=True)]).T.head(20)"
   ]
  },
  {
   "cell_type": "code",
   "execution_count": 38,
   "metadata": {},
   "outputs": [
    {
     "data": {
      "text/plain": [
       "(1020, 0.3430716347027049, 51)"
      ]
     },
     "execution_count": 38,
     "metadata": {},
     "output_type": "execute_result"
    }
   ],
   "source": [
    "\n",
    "mask = (dataset_df.label.value_counts() < 21)\n",
    "\n",
    "dataset_df.label.value_counts()[mask].sum(),dataset_df.label.value_counts(normalize=True)[mask].sum()*100, mask.sum()"
   ]
  },
  {
   "cell_type": "code",
   "execution_count": 3,
   "metadata": {},
   "outputs": [],
   "source": [
    "l_encoder = LabelEncoder()\n",
    "l_encoder = l_encoder.fit(dataset_df['label'].values)"
   ]
  },
  {
   "cell_type": "code",
   "execution_count": 4,
   "metadata": {},
   "outputs": [
    {
     "data": {
      "text/plain": [
       "array([185, 185, 185, ..., 295, 295, 295])"
      ]
     },
     "execution_count": 4,
     "metadata": {},
     "output_type": "execute_result"
    }
   ],
   "source": [
    "l_encoder.transform(dataset_df['label'])"
   ]
  },
  {
   "cell_type": "code",
   "execution_count": 2,
   "metadata": {},
   "outputs": [],
   "source": [
    "from transformers import AutoTokenizer\n",
    "\n",
    "tokenizer = AutoTokenizer.from_pretrained(\"distilbert-base-uncased\")"
   ]
  },
  {
   "cell_type": "code",
   "execution_count": 6,
   "metadata": {},
   "outputs": [
    {
     "data": {
      "text/plain": [
       "{'input_ids': [101, 1045, 14071, 1003, 1048, 2000, 11937, 2487, 2243, 2000, 2619, 2012, 2194, 102], 'attention_mask': [1, 1, 1, 1, 1, 1, 1, 1, 1, 1, 1, 1, 1, 1]}"
      ]
     },
     "execution_count": 6,
     "metadata": {},
     "output_type": "execute_result"
    }
   ],
   "source": [
    "def preprocess_function(text):\n",
    "    return tokenizer.encode_plus(text, truncation=True)\n",
    "preprocess_function('i wan%l to ta1k to someone at company')"
   ]
  },
  {
   "cell_type": "code",
   "execution_count": 2,
   "metadata": {},
   "outputs": [
    {
     "name": "stdout",
     "output_type": "stream",
     "text": [
      "Loading data ...\n",
      "208119 train questions\n",
      "89195 validation questions\n"
     ]
    }
   ],
   "source": [
    "datamodule = OHLDataModule(data_path='../data/processed/dataset.csv',\n",
    "                           max_length=512,\n",
    "                           train_bs=32,\n",
    "                           valid_bs=32,\n",
    "                           test_size=0.3,\n",
    "                           model_name='distilbert-base-uncased',\n",
    "                           aug=True)\n",
    "datamodule.setup()"
   ]
  },
  {
   "cell_type": "code",
   "execution_count": 3,
   "metadata": {},
   "outputs": [
    {
     "data": {
      "text/plain": [
       "('Which plan has osmolex 322 mg daily dosing coverage and are this free?',\n",
       " torch.Size([1]))"
      ]
     },
     "execution_count": 3,
     "metadata": {},
     "output_type": "execute_result"
    }
   ],
   "source": [
    "datamodule.train_ds.texts[0], datamodule.train_ds.__getitem__(0)['labels'].shape"
   ]
  },
  {
   "cell_type": "code",
   "execution_count": 4,
   "metadata": {},
   "outputs": [],
   "source": [
    "dataloader = datamodule.train_dataloader()"
   ]
  },
  {
   "cell_type": "code",
   "execution_count": 5,
   "metadata": {},
   "outputs": [
    {
     "name": "stdout",
     "output_type": "stream",
     "text": [
      "huggingface/tokenizers: The current process just got forked, after parallelism has already been used. Disabling parallelism to avoid deadlocks...\n",
      "To disable this warning, you can either:\n",
      "\t- Avoid using `tokenizers` before the fork if possible\n",
      "\t- Explicitly set the environment variable TOKENIZERS_PARALLELISM=(true | false)\n",
      "huggingface/tokenizers: The current process just got forked, after parallelism has already been used. Disabling parallelism to avoid deadlocks...\n",
      "To disable this warning, you can either:\n",
      "\t- Avoid using `tokenizers` before the fork if possible\n",
      "\t- Explicitly set the environment variable TOKENIZERS_PARALLELISM=(true | false)\n",
      "huggingface/tokenizers: The current process just got forked, after parallelism has already been used. Disabling parallelism to avoid deadlocks...\n",
      "To disable this warning, you can either:\n",
      "\t- Avoid using `tokenizers` before the fork if possible\n",
      "\t- Explicitly set the environment variable TOKENIZERS_PARALLELISM=(true | false)\n",
      "huggingface/tokenizers: The current process just got forked, after parallelism has already been used. Disabling parallelism to avoid deadlocks...\n",
      "To disable this warning, you can either:\n",
      "\t- Avoid using `tokenizers` before the fork if possible\n",
      "\t- Explicitly set the environment variable TOKENIZERS_PARALLELISM=(true | false)\n"
     ]
    },
    {
     "data": {
      "text/plain": [
       "torch.Size([32, 512])"
      ]
     },
     "execution_count": 5,
     "metadata": {},
     "output_type": "execute_result"
    }
   ],
   "source": [
    "next(dataloader._get_iterator())['input_ids'].shape"
   ]
  },
  {
   "cell_type": "code",
   "execution_count": 6,
   "metadata": {},
   "outputs": [
    {
     "name": "stderr",
     "output_type": "stream",
     "text": [
      "Some weights of the model checkpoint at bert-base-uncased were not used when initializing BertForSequenceClassification: ['cls.predictions.decoder.weight', 'cls.predictions.transform.dense.weight', 'cls.predictions.transform.LayerNorm.bias', 'cls.seq_relationship.bias', 'cls.seq_relationship.weight', 'cls.predictions.transform.LayerNorm.weight', 'cls.predictions.bias', 'cls.predictions.transform.dense.bias']\n",
      "- This IS expected if you are initializing BertForSequenceClassification from the checkpoint of a model trained on another task or with another architecture (e.g. initializing a BertForSequenceClassification model from a BertForPreTraining model).\n",
      "- This IS NOT expected if you are initializing BertForSequenceClassification from the checkpoint of a model that you expect to be exactly identical (initializing a BertForSequenceClassification model from a BertForSequenceClassification model).\n",
      "Some weights of BertForSequenceClassification were not initialized from the model checkpoint at bert-base-uncased and are newly initialized: ['classifier.weight', 'classifier.bias']\n",
      "You should probably TRAIN this model on a down-stream task to be able to use it for predictions and inference.\n",
      "GPU available: True, used: True\n",
      "TPU available: False, using: 0 TPU cores\n",
      "IPU available: False, using: 0 IPUs\n",
      "HPU available: False, using: 0 HPUs\n"
     ]
    },
    {
     "name": "stdout",
     "output_type": "stream",
     "text": [
      "Loading data ...\n",
      "208119 train questions\n",
      "89195 validation questions\n"
     ]
    },
    {
     "name": "stderr",
     "output_type": "stream",
     "text": [
      "/home/andrey/roonyx_projects/question-matching/.env/lib/python3.8/site-packages/pytorch_lightning/trainer/trainer.py:726: UserWarning: Detected KeyboardInterrupt, attempting graceful shutdown...\n",
      "  rank_zero_warn(\"Detected KeyboardInterrupt, attempting graceful shutdown...\")\n"
     ]
    }
   ],
   "source": [
    "model = TextClassificationTransformer(pretrained_model_name_or_path=\"bert-base-uncased\", num_labels=datamodule.num_classes)\n",
    "# model.num_classes = \n",
    "trainer = pl.Trainer(accelerator=\"auto\", devices=\"auto\", max_epochs=1)\n",
    "\n",
    "trainer.fit(model, datamodule)"
   ]
  },
  {
   "cell_type": "code",
   "execution_count": 12,
   "metadata": {},
   "outputs": [
    {
     "data": {
      "text/plain": [
       "id1    1\n",
       "id2    2\n",
       "dtype: int64"
      ]
     },
     "execution_count": 12,
     "metadata": {},
     "output_type": "execute_result"
    }
   ],
   "source": [
    "pd.Series({'id1':1, \"id2\":2})"
   ]
  }
 ],
 "metadata": {
  "kernelspec": {
   "display_name": "Python 3.8.10 ('.env': venv)",
   "language": "python",
   "name": "python3"
  },
  "language_info": {
   "codemirror_mode": {
    "name": "ipython",
    "version": 3
   },
   "file_extension": ".py",
   "mimetype": "text/x-python",
   "name": "python",
   "nbconvert_exporter": "python",
   "pygments_lexer": "ipython3",
   "version": "3.8.10"
  },
  "orig_nbformat": 4,
  "vscode": {
   "interpreter": {
    "hash": "97e32ed2c1f3abd45698da4d152fbdc4beb8bc3fa5c12b06d3cc23a6a3ee02e5"
   }
  }
 },
 "nbformat": 4,
 "nbformat_minor": 2
}
