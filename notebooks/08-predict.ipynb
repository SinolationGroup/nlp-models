{
 "cells": [
  {
   "cell_type": "code",
   "execution_count": 16,
   "metadata": {},
   "outputs": [],
   "source": [
    "from src.models.predict_model import OHLProductionModel\n",
    "import torch\n",
    "import pandas as pd\n",
    "from sklearn.preprocessing import LabelEncoder\n"
   ]
  },
  {
   "cell_type": "code",
   "execution_count": 86,
   "metadata": {},
   "outputs": [
    {
     "name": "stderr",
     "output_type": "stream",
     "text": [
      "Some weights of the model checkpoint at distilbert-base-uncased were not used when initializing DistilBertForSequenceClassification: ['vocab_transform.weight', 'vocab_layer_norm.bias', 'vocab_projector.bias', 'vocab_projector.weight', 'vocab_layer_norm.weight', 'vocab_transform.bias']\n",
      "- This IS expected if you are initializing DistilBertForSequenceClassification from the checkpoint of a model trained on another task or with another architecture (e.g. initializing a BertForSequenceClassification model from a BertForPreTraining model).\n",
      "- This IS NOT expected if you are initializing DistilBertForSequenceClassification from the checkpoint of a model that you expect to be exactly identical (initializing a BertForSequenceClassification model from a BertForSequenceClassification model).\n",
      "Some weights of DistilBertForSequenceClassification were not initialized from the model checkpoint at distilbert-base-uncased and are newly initialized: ['classifier.weight', 'pre_classifier.weight', 'pre_classifier.bias', 'classifier.bias']\n",
      "You should probably TRAIN this model on a down-stream task to be able to use it for predictions and inference.\n"
     ]
    }
   ],
   "source": [
    "model = OHLProductionModel(n_classes=296, device='cpu')"
   ]
  },
  {
   "cell_type": "code",
   "execution_count": 4,
   "metadata": {},
   "outputs": [
    {
     "name": "stderr",
     "output_type": "stream",
     "text": [
      "/home/andrey/roonyx_projects/question-matching/src/models/predict_model.py:35: UserWarning: Implicit dimension choice for softmax has been deprecated. Change the call to include dim=X as an argument.\n",
      "  x = self.softmax(x.logits)\n"
     ]
    }
   ],
   "source": [
    "checkpoint_path = '../models/chkpts/epoch=7-val_f1=0.96-val_accuracy=0.99-val_loss=0.0215.ckpt'\n",
    "state_dict = torch.load(checkpoint_path, map_location=torch.device(model.device))[\n",
    "    \"state_dict\"\n",
    "]\n",
    "model.load_state_dict(state_dict)\n",
    "model.eval().to(model.device)\n",
    "model.warmup()\n"
   ]
  },
  {
   "cell_type": "code",
   "execution_count": 8,
   "metadata": {},
   "outputs": [
    {
     "name": "stderr",
     "output_type": "stream",
     "text": [
      "/home/andrey/roonyx_projects/question-matching/src/models/predict_model.py:35: UserWarning: Implicit dimension choice for softmax has been deprecated. Change the call to include dim=X as an argument.\n",
      "  x = self.softmax(x.logits)\n"
     ]
    }
   ],
   "source": [
    "i = model.preprocess_input('blood count')\n",
    "i = {k: v.unsqueeze(0) for k, v in i.items()}\n",
    "o = model(i).cpu().detach().numpy()"
   ]
  },
  {
   "cell_type": "code",
   "execution_count": 15,
   "metadata": {},
   "outputs": [
    {
     "data": {
      "text/html": [
       "<div>\n",
       "<style scoped>\n",
       "    .dataframe tbody tr th:only-of-type {\n",
       "        vertical-align: middle;\n",
       "    }\n",
       "\n",
       "    .dataframe tbody tr th {\n",
       "        vertical-align: top;\n",
       "    }\n",
       "\n",
       "    .dataframe thead th {\n",
       "        text-align: right;\n",
       "    }\n",
       "</style>\n",
       "<table border=\"1\" class=\"dataframe\">\n",
       "  <thead>\n",
       "    <tr style=\"text-align: right;\">\n",
       "      <th></th>\n",
       "      <th>index</th>\n",
       "      <th>question_id</th>\n",
       "      <th>client_id</th>\n",
       "      <th>campaign_id</th>\n",
       "      <th>question_category</th>\n",
       "      <th>question_subcategory</th>\n",
       "      <th>question_keyword</th>\n",
       "      <th>question_description</th>\n",
       "    </tr>\n",
       "  </thead>\n",
       "  <tbody>\n",
       "    <tr>\n",
       "      <th>0</th>\n",
       "      <td>0</td>\n",
       "      <td>benefit_search-preventive_care-1</td>\n",
       "      <td>Aetna_Medicare</td>\n",
       "      <td>PDP_Conversion_SMS</td>\n",
       "      <td>Benefit Search</td>\n",
       "      <td>preventive care</td>\n",
       "      <td>Preventive care</td>\n",
       "      <td>Which plan(s) cover preventive benefits?</td>\n",
       "    </tr>\n",
       "    <tr>\n",
       "      <th>1</th>\n",
       "      <td>1</td>\n",
       "      <td>benefit_search-preventive_care-2</td>\n",
       "      <td>Aetna_Medicare</td>\n",
       "      <td>PDP_Conversion_SMS</td>\n",
       "      <td>Benefit Search</td>\n",
       "      <td>preventive care</td>\n",
       "      <td>Preventive care</td>\n",
       "      <td>How much does preventive benefits cost to me?</td>\n",
       "    </tr>\n",
       "    <tr>\n",
       "      <th>2</th>\n",
       "      <td>2</td>\n",
       "      <td>benefit_search-preventive_care-1</td>\n",
       "      <td>Aetna_Medicare</td>\n",
       "      <td>PDP_Conversion_SMS</td>\n",
       "      <td>Benefit Search</td>\n",
       "      <td>preventive care</td>\n",
       "      <td>Abdominal aortic aneurysm screening</td>\n",
       "      <td>Which plan(s) cover preventive benefits?</td>\n",
       "    </tr>\n",
       "    <tr>\n",
       "      <th>3</th>\n",
       "      <td>3</td>\n",
       "      <td>benefit_search-preventive_care-2</td>\n",
       "      <td>Aetna_Medicare</td>\n",
       "      <td>PDP_Conversion_SMS</td>\n",
       "      <td>Benefit Search</td>\n",
       "      <td>preventive care</td>\n",
       "      <td>Abdominal aortic aneurysm screening</td>\n",
       "      <td>How much does preventive benefits cost to me?</td>\n",
       "    </tr>\n",
       "    <tr>\n",
       "      <th>4</th>\n",
       "      <td>4</td>\n",
       "      <td>benefit_search-preventive_care-1</td>\n",
       "      <td>Aetna_Medicare</td>\n",
       "      <td>PDP_Conversion_SMS</td>\n",
       "      <td>Benefit Search</td>\n",
       "      <td>preventive care</td>\n",
       "      <td>Alcohol misuse screenings &amp; counseling</td>\n",
       "      <td>Which plan(s) cover preventive benefits?</td>\n",
       "    </tr>\n",
       "  </tbody>\n",
       "</table>\n",
       "</div>"
      ],
      "text/plain": [
       "   index                       question_id       client_id  \\\n",
       "0      0  benefit_search-preventive_care-1  Aetna_Medicare   \n",
       "1      1  benefit_search-preventive_care-2  Aetna_Medicare   \n",
       "2      2  benefit_search-preventive_care-1  Aetna_Medicare   \n",
       "3      3  benefit_search-preventive_care-2  Aetna_Medicare   \n",
       "4      4  benefit_search-preventive_care-1  Aetna_Medicare   \n",
       "\n",
       "          campaign_id question_category question_subcategory  \\\n",
       "0  PDP_Conversion_SMS    Benefit Search      preventive care   \n",
       "1  PDP_Conversion_SMS    Benefit Search      preventive care   \n",
       "2  PDP_Conversion_SMS    Benefit Search      preventive care   \n",
       "3  PDP_Conversion_SMS    Benefit Search      preventive care   \n",
       "4  PDP_Conversion_SMS    Benefit Search      preventive care   \n",
       "\n",
       "                         question_keyword  \\\n",
       "0                         Preventive care   \n",
       "1                         Preventive care   \n",
       "2     Abdominal aortic aneurysm screening   \n",
       "3     Abdominal aortic aneurysm screening   \n",
       "4  Alcohol misuse screenings & counseling   \n",
       "\n",
       "                            question_description  \n",
       "0       Which plan(s) cover preventive benefits?  \n",
       "1  How much does preventive benefits cost to me?  \n",
       "2       Which plan(s) cover preventive benefits?  \n",
       "3  How much does preventive benefits cost to me?  \n",
       "4       Which plan(s) cover preventive benefits?  "
      ]
     },
     "execution_count": 15,
     "metadata": {},
     "output_type": "execute_result"
    }
   ],
   "source": [
    "df = pd.read_csv('../data/raw/NLP training data 0816.csv')\n",
    "df.drop_duplicates(inplace=True)\n",
    "df.reset_index(inplace=True, )\n",
    "df.head()"
   ]
  },
  {
   "cell_type": "code",
   "execution_count": 17,
   "metadata": {},
   "outputs": [],
   "source": [
    "l_encoder = LabelEncoder()\n",
    "l_encoder = l_encoder.fit(df[\"question_id\"].values)"
   ]
  },
  {
   "cell_type": "code",
   "execution_count": 84,
   "metadata": {},
   "outputs": [
    {
     "name": "stdout",
     "output_type": "stream",
     "text": [
      "CPU times: user 666 ms, sys: 7.74 ms, total: 674 ms\n",
      "Wall time: 113 ms\n"
     ]
    },
    {
     "name": "stderr",
     "output_type": "stream",
     "text": [
      "/home/andrey/roonyx_projects/question-matching/src/models/predict_model.py:35: UserWarning: Implicit dimension choice for softmax has been deprecated. Change the call to include dim=X as an argument.\n",
      "  x = self.softmax(x.logits)\n"
     ]
    },
    {
     "data": {
      "text/html": [
       "<div>\n",
       "<style scoped>\n",
       "    .dataframe tbody tr th:only-of-type {\n",
       "        vertical-align: middle;\n",
       "    }\n",
       "\n",
       "    .dataframe tbody tr th {\n",
       "        vertical-align: top;\n",
       "    }\n",
       "\n",
       "    .dataframe thead th {\n",
       "        text-align: right;\n",
       "    }\n",
       "</style>\n",
       "<table border=\"1\" class=\"dataframe\">\n",
       "  <thead>\n",
       "    <tr style=\"text-align: right;\">\n",
       "      <th></th>\n",
       "      <th>class_name</th>\n",
       "      <th>p</th>\n",
       "      <th>q</th>\n",
       "    </tr>\n",
       "  </thead>\n",
       "  <tbody>\n",
       "    <tr>\n",
       "      <th>0</th>\n",
       "      <td>benefit_search-chemotherapy_drugs-1</td>\n",
       "      <td>0.286586</td>\n",
       "      <td>Which plan(s) cover chemotherapy drugs?</td>\n",
       "    </tr>\n",
       "    <tr>\n",
       "      <th>1</th>\n",
       "      <td>benefit_term-creditable_prescription_drug_cove...</td>\n",
       "      <td>0.125813</td>\n",
       "      <td>What does creditable prescription drug coverag...</td>\n",
       "    </tr>\n",
       "    <tr>\n",
       "      <th>2</th>\n",
       "      <td>benefit_search-inpatient_alcohol/drug_use_or_i...</td>\n",
       "      <td>0.090937</td>\n",
       "      <td>Which plan(s) cover inpatient treatment for al...</td>\n",
       "    </tr>\n",
       "    <tr>\n",
       "      <th>3</th>\n",
       "      <td>benefit_search-OTC_drugs-1</td>\n",
       "      <td>0.084257</td>\n",
       "      <td>Which plan(s) cover over-the-counter (OTC)?</td>\n",
       "    </tr>\n",
       "    <tr>\n",
       "      <th>4</th>\n",
       "      <td>benefit_term-generic_drug</td>\n",
       "      <td>0.052316</td>\n",
       "      <td>What does generic drug mean?</td>\n",
       "    </tr>\n",
       "  </tbody>\n",
       "</table>\n",
       "</div>"
      ],
      "text/plain": [
       "                                          class_name         p  \\\n",
       "0                benefit_search-chemotherapy_drugs-1  0.286586   \n",
       "1  benefit_term-creditable_prescription_drug_cove...  0.125813   \n",
       "2  benefit_search-inpatient_alcohol/drug_use_or_i...  0.090937   \n",
       "3                         benefit_search-OTC_drugs-1  0.084257   \n",
       "4                          benefit_term-generic_drug  0.052316   \n",
       "\n",
       "                                                   q  \n",
       "0            Which plan(s) cover chemotherapy drugs?  \n",
       "1  What does creditable prescription drug coverag...  \n",
       "2  Which plan(s) cover inpatient treatment for al...  \n",
       "3        Which plan(s) cover over-the-counter (OTC)?  \n",
       "4                       What does generic drug mean?  "
      ]
     },
     "execution_count": 84,
     "metadata": {},
     "output_type": "execute_result"
    }
   ],
   "source": [
    "%%time\n",
    "i = model.preprocess_input('Which plan(s) cover my drug(s)')\n",
    "i = {k: v.unsqueeze(0) for k, v in i.items()}\n",
    "o = model(i).cpu().detach().numpy()\n",
    "idx = o.argsort(axis=1)\n",
    "\n",
    "\n",
    "preds = []\n",
    "for e in idx[0,-5:][::-1]:\n",
    "    temp_dict = {}\n",
    "    temp_dict['class_name'] = l_encoder.classes_[e]\n",
    "    temp_dict['p'] = o[0,e]\n",
    "    temp_dict['q'] = df[df.question_id==temp_dict['class_name']]['question_description'].values[0]\n",
    "    preds.append(temp_dict)\n",
    "    # print(f\"{class_name}: {p:%} q: {q}\")\n",
    "    \n",
    "preds_df = pd.DataFrame(preds)\n",
    "preds_df.head()"
   ]
  }
 ],
 "metadata": {
  "kernelspec": {
   "display_name": "Python 3.8.10 ('.env': venv)",
   "language": "python",
   "name": "python3"
  },
  "language_info": {
   "codemirror_mode": {
    "name": "ipython",
    "version": 3
   },
   "file_extension": ".py",
   "mimetype": "text/x-python",
   "name": "python",
   "nbconvert_exporter": "python",
   "pygments_lexer": "ipython3",
   "version": "3.8.10"
  },
  "orig_nbformat": 4,
  "vscode": {
   "interpreter": {
    "hash": "97e32ed2c1f3abd45698da4d152fbdc4beb8bc3fa5c12b06d3cc23a6a3ee02e5"
   }
  }
 },
 "nbformat": 4,
 "nbformat_minor": 2
}
