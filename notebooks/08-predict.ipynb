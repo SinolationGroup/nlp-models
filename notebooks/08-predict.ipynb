{
 "cells": [
  {
   "cell_type": "code",
   "execution_count": 4,
   "metadata": {},
   "outputs": [],
   "source": [
    "from src.models.predict_model import OHLProductionModel\n",
    "import torch"
   ]
  },
  {
   "cell_type": "code",
   "execution_count": 19,
   "metadata": {},
   "outputs": [],
   "source": [
    "MODEL_ID = \"../models/chkpts/07-09-2022_12:38:02/epoch=4-val_f1=0.95-val_accuracy=0.99-val_loss=0.0226.ckpt\"\n",
    "DEVICE = \"cpu\""
   ]
  },
  {
   "cell_type": "code",
   "execution_count": 20,
   "metadata": {},
   "outputs": [
    {
     "name": "stderr",
     "output_type": "stream",
     "text": [
      "Some weights of the model checkpoint at distilbert-base-uncased were not used when initializing DistilBertForSequenceClassification: ['vocab_transform.weight', 'vocab_transform.bias', 'vocab_layer_norm.weight', 'vocab_projector.weight', 'vocab_layer_norm.bias', 'vocab_projector.bias']\n",
      "- This IS expected if you are initializing DistilBertForSequenceClassification from the checkpoint of a model trained on another task or with another architecture (e.g. initializing a BertForSequenceClassification model from a BertForPreTraining model).\n",
      "- This IS NOT expected if you are initializing DistilBertForSequenceClassification from the checkpoint of a model that you expect to be exactly identical (initializing a BertForSequenceClassification model from a BertForSequenceClassification model).\n",
      "Some weights of DistilBertForSequenceClassification were not initialized from the model checkpoint at distilbert-base-uncased and are newly initialized: ['pre_classifier.weight', 'classifier.bias', 'classifier.weight', 'pre_classifier.bias']\n",
      "You should probably TRAIN this model on a down-stream task to be able to use it for predictions and inference.\n"
     ]
    }
   ],
   "source": [
    "def create_model(device: str, model_id: str):\n",
    "\n",
    "    model = OHLProductionModel(n_classes=296, device=device)\n",
    "    state_dict = torch.load(model_id, map_location=torch.device(model.device))[\n",
    "        \"state_dict\"\n",
    "    ]\n",
    "    model.load_state_dict(state_dict)\n",
    "    model.eval().to(model.device)\n",
    "    model.warmup()\n",
    "    return model\n",
    "model = create_model(device=DEVICE, model_id=MODEL_ID)\n"
   ]
  },
  {
   "cell_type": "code",
   "execution_count": 21,
   "metadata": {},
   "outputs": [],
   "source": [
    "class_names = []\n",
    "with open(\"../data/interim/class_names.txt\", \"r\") as f:\n",
    "    for line in f:\n",
    "        class_names.append(line.strip())\n"
   ]
  },
  {
   "cell_type": "code",
   "execution_count": 22,
   "metadata": {},
   "outputs": [],
   "source": [
    "input = model.preprocess_input(['blood count', 'i want to speak to a manager'],)\n",
    "pred = model(input).cpu().detach().numpy()\n"
   ]
  },
  {
   "cell_type": "code",
   "execution_count": 26,
   "metadata": {},
   "outputs": [
    {
     "name": "stdout",
     "output_type": "stream",
     "text": [
      "benefit_search-lab_services-1\n",
      "customer_service-live_agent\n"
     ]
    }
   ],
   "source": [
    "idx = pred.argsort(axis=1) # descending sort\n",
    "pred_class_name = class_names[idx[0][::-1][0]] # the class with the highest probability for the first text\n",
    "print(pred_class_name)\n",
    "pred_class_name = class_names[idx[1][::-1][0]] # for the second text\n",
    "print(pred_class_name)\n"
   ]
  }
 ],
 "metadata": {
  "kernelspec": {
   "display_name": "Python 3.8.10 ('.env': venv)",
   "language": "python",
   "name": "python3"
  },
  "language_info": {
   "codemirror_mode": {
    "name": "ipython",
    "version": 3
   },
   "file_extension": ".py",
   "mimetype": "text/x-python",
   "name": "python",
   "nbconvert_exporter": "python",
   "pygments_lexer": "ipython3",
   "version": "3.8.10"
  },
  "orig_nbformat": 4,
  "vscode": {
   "interpreter": {
    "hash": "97e32ed2c1f3abd45698da4d152fbdc4beb8bc3fa5c12b06d3cc23a6a3ee02e5"
   }
  }
 },
 "nbformat": 4,
 "nbformat_minor": 2
}
