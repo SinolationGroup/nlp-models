{
 "cells": [
  {
   "cell_type": "code",
   "execution_count": 5,
   "metadata": {},
   "outputs": [],
   "source": [
    "from src.models.predict_model import OHLProductionModel\n",
    "import torch\n",
    "import pandas as pd\n",
    "from sklearn.preprocessing import LabelEncoder\n",
    "from transformers import AutoModelForSequenceClassification, AutoTokenizer"
   ]
  },
  {
   "cell_type": "code",
   "execution_count": 2,
   "metadata": {},
   "outputs": [
    {
     "name": "stderr",
     "output_type": "stream",
     "text": [
      "Some weights of the model checkpoint at distilbert-base-uncased were not used when initializing DistilBertForSequenceClassification: ['vocab_transform.weight', 'vocab_layer_norm.bias', 'vocab_transform.bias', 'vocab_projector.weight', 'vocab_layer_norm.weight', 'vocab_projector.bias']\n",
      "- This IS expected if you are initializing DistilBertForSequenceClassification from the checkpoint of a model trained on another task or with another architecture (e.g. initializing a BertForSequenceClassification model from a BertForPreTraining model).\n",
      "- This IS NOT expected if you are initializing DistilBertForSequenceClassification from the checkpoint of a model that you expect to be exactly identical (initializing a BertForSequenceClassification model from a BertForSequenceClassification model).\n",
      "Some weights of DistilBertForSequenceClassification were not initialized from the model checkpoint at distilbert-base-uncased and are newly initialized: ['pre_classifier.bias', 'classifier.bias', 'classifier.weight', 'pre_classifier.weight']\n",
      "You should probably TRAIN this model on a down-stream task to be able to use it for predictions and inference.\n"
     ]
    }
   ],
   "source": [
    "model = OHLProductionModel(n_classes=296, device='cpu')"
   ]
  },
  {
   "cell_type": "code",
   "execution_count": 3,
   "metadata": {},
   "outputs": [
    {
     "name": "stderr",
     "output_type": "stream",
     "text": [
      "/home/andrey/roonyx_projects/question-matching/src/models/predict_model.py:35: UserWarning: Implicit dimension choice for softmax has been deprecated. Change the call to include dim=X as an argument.\n",
      "  x = self.softmax(x.logits)\n"
     ]
    }
   ],
   "source": [
    "checkpoint_path = '../models/chkpts/epoch=7-val_f1=0.96-val_accuracy=0.99-val_loss=0.0215.ckpt'\n",
    "state_dict = torch.load(checkpoint_path, map_location=torch.device(model.device))[\n",
    "    \"state_dict\"\n",
    "]\n",
    "model.load_state_dict(state_dict)\n",
    "model.eval().to(model.device)\n",
    "model.warmup()\n"
   ]
  },
  {
   "cell_type": "code",
   "execution_count": 6,
   "metadata": {},
   "outputs": [],
   "source": [
    "tokenizer = AutoTokenizer.from_pretrained(model.model_name)\n",
    "def preprocess_input(text: str):\n",
    "        text = tokenizer(text, truncation=True)\n",
    "        data = {}\n",
    "        data[\"input_ids\"] = torch.IntTensor(text[\"input_ids\"])\n",
    "        data[\"attention_mask\"] = torch.FloatTensor(text[\"attention_mask\"])\n",
    "        return data"
   ]
  },
  {
   "cell_type": "code",
   "execution_count": 13,
   "metadata": {},
   "outputs": [],
   "source": [
    "i = preprocess_input('blood count')\n",
    "i = {k: v.unsqueeze(0) for k, v in i.items()}\n",
    "o = model(i).cpu().detach().numpy()"
   ]
  },
  {
   "cell_type": "code",
   "execution_count": 12,
   "metadata": {},
   "outputs": [
    {
     "name": "stdout",
     "output_type": "stream",
     "text": [
      "104 ms ± 479 µs per loop (mean ± std. dev. of 7 runs, 10 loops each)\n"
     ]
    }
   ],
   "source": [
    "%%timeit\n",
    "i = model.preprocess_input('blood count')\n",
    "i = {k: v.unsqueeze(0) for k, v in i.items()}\n",
    "o = model(i).cpu().detach().numpy()"
   ]
  },
  {
   "cell_type": "code",
   "execution_count": 14,
   "metadata": {},
   "outputs": [
    {
     "data": {
      "text/html": [
       "<div>\n",
       "<style scoped>\n",
       "    .dataframe tbody tr th:only-of-type {\n",
       "        vertical-align: middle;\n",
       "    }\n",
       "\n",
       "    .dataframe tbody tr th {\n",
       "        vertical-align: top;\n",
       "    }\n",
       "\n",
       "    .dataframe thead th {\n",
       "        text-align: right;\n",
       "    }\n",
       "</style>\n",
       "<table border=\"1\" class=\"dataframe\">\n",
       "  <thead>\n",
       "    <tr style=\"text-align: right;\">\n",
       "      <th></th>\n",
       "      <th>index</th>\n",
       "      <th>question_id</th>\n",
       "      <th>client_id</th>\n",
       "      <th>campaign_id</th>\n",
       "      <th>question_category</th>\n",
       "      <th>question_subcategory</th>\n",
       "      <th>question_keyword</th>\n",
       "      <th>question_description</th>\n",
       "    </tr>\n",
       "  </thead>\n",
       "  <tbody>\n",
       "    <tr>\n",
       "      <th>0</th>\n",
       "      <td>0</td>\n",
       "      <td>benefit_search-preventive_care-1</td>\n",
       "      <td>Aetna_Medicare</td>\n",
       "      <td>PDP_Conversion_SMS</td>\n",
       "      <td>Benefit Search</td>\n",
       "      <td>preventive care</td>\n",
       "      <td>Preventive care</td>\n",
       "      <td>Which plan(s) cover preventive benefits?</td>\n",
       "    </tr>\n",
       "    <tr>\n",
       "      <th>1</th>\n",
       "      <td>1</td>\n",
       "      <td>benefit_search-preventive_care-2</td>\n",
       "      <td>Aetna_Medicare</td>\n",
       "      <td>PDP_Conversion_SMS</td>\n",
       "      <td>Benefit Search</td>\n",
       "      <td>preventive care</td>\n",
       "      <td>Preventive care</td>\n",
       "      <td>How much does preventive benefits cost to me?</td>\n",
       "    </tr>\n",
       "    <tr>\n",
       "      <th>2</th>\n",
       "      <td>2</td>\n",
       "      <td>benefit_search-preventive_care-1</td>\n",
       "      <td>Aetna_Medicare</td>\n",
       "      <td>PDP_Conversion_SMS</td>\n",
       "      <td>Benefit Search</td>\n",
       "      <td>preventive care</td>\n",
       "      <td>Abdominal aortic aneurysm screening</td>\n",
       "      <td>Which plan(s) cover preventive benefits?</td>\n",
       "    </tr>\n",
       "    <tr>\n",
       "      <th>3</th>\n",
       "      <td>3</td>\n",
       "      <td>benefit_search-preventive_care-2</td>\n",
       "      <td>Aetna_Medicare</td>\n",
       "      <td>PDP_Conversion_SMS</td>\n",
       "      <td>Benefit Search</td>\n",
       "      <td>preventive care</td>\n",
       "      <td>Abdominal aortic aneurysm screening</td>\n",
       "      <td>How much does preventive benefits cost to me?</td>\n",
       "    </tr>\n",
       "    <tr>\n",
       "      <th>4</th>\n",
       "      <td>4</td>\n",
       "      <td>benefit_search-preventive_care-1</td>\n",
       "      <td>Aetna_Medicare</td>\n",
       "      <td>PDP_Conversion_SMS</td>\n",
       "      <td>Benefit Search</td>\n",
       "      <td>preventive care</td>\n",
       "      <td>Alcohol misuse screenings &amp; counseling</td>\n",
       "      <td>Which plan(s) cover preventive benefits?</td>\n",
       "    </tr>\n",
       "  </tbody>\n",
       "</table>\n",
       "</div>"
      ],
      "text/plain": [
       "   index                       question_id       client_id  \\\n",
       "0      0  benefit_search-preventive_care-1  Aetna_Medicare   \n",
       "1      1  benefit_search-preventive_care-2  Aetna_Medicare   \n",
       "2      2  benefit_search-preventive_care-1  Aetna_Medicare   \n",
       "3      3  benefit_search-preventive_care-2  Aetna_Medicare   \n",
       "4      4  benefit_search-preventive_care-1  Aetna_Medicare   \n",
       "\n",
       "          campaign_id question_category question_subcategory  \\\n",
       "0  PDP_Conversion_SMS    Benefit Search      preventive care   \n",
       "1  PDP_Conversion_SMS    Benefit Search      preventive care   \n",
       "2  PDP_Conversion_SMS    Benefit Search      preventive care   \n",
       "3  PDP_Conversion_SMS    Benefit Search      preventive care   \n",
       "4  PDP_Conversion_SMS    Benefit Search      preventive care   \n",
       "\n",
       "                         question_keyword  \\\n",
       "0                         Preventive care   \n",
       "1                         Preventive care   \n",
       "2     Abdominal aortic aneurysm screening   \n",
       "3     Abdominal aortic aneurysm screening   \n",
       "4  Alcohol misuse screenings & counseling   \n",
       "\n",
       "                            question_description  \n",
       "0       Which plan(s) cover preventive benefits?  \n",
       "1  How much does preventive benefits cost to me?  \n",
       "2       Which plan(s) cover preventive benefits?  \n",
       "3  How much does preventive benefits cost to me?  \n",
       "4       Which plan(s) cover preventive benefits?  "
      ]
     },
     "execution_count": 14,
     "metadata": {},
     "output_type": "execute_result"
    }
   ],
   "source": [
    "df = pd.read_csv('../data/raw/NLP training data 0816.csv')\n",
    "df.drop_duplicates(inplace=True)\n",
    "df.reset_index(inplace=True, )\n",
    "df.head()"
   ]
  },
  {
   "cell_type": "code",
   "execution_count": 15,
   "metadata": {},
   "outputs": [],
   "source": [
    "l_encoder = LabelEncoder()\n",
    "l_encoder = l_encoder.fit(df[\"question_id\"].values)"
   ]
  },
  {
   "cell_type": "code",
   "execution_count": 19,
   "metadata": {},
   "outputs": [
    {
     "name": "stdout",
     "output_type": "stream",
     "text": [
      "CPU times: user 974 ms, sys: 87.3 ms, total: 1.06 s\n",
      "Wall time: 181 ms\n"
     ]
    },
    {
     "name": "stderr",
     "output_type": "stream",
     "text": [
      "/home/andrey/roonyx_projects/question-matching/src/models/predict_model.py:35: UserWarning: Implicit dimension choice for softmax has been deprecated. Change the call to include dim=X as an argument.\n",
      "  x = self.softmax(x.logits)\n"
     ]
    },
    {
     "data": {
      "text/html": [
       "<div>\n",
       "<style scoped>\n",
       "    .dataframe tbody tr th:only-of-type {\n",
       "        vertical-align: middle;\n",
       "    }\n",
       "\n",
       "    .dataframe tbody tr th {\n",
       "        vertical-align: top;\n",
       "    }\n",
       "\n",
       "    .dataframe thead th {\n",
       "        text-align: right;\n",
       "    }\n",
       "</style>\n",
       "<table border=\"1\" class=\"dataframe\">\n",
       "  <thead>\n",
       "    <tr style=\"text-align: right;\">\n",
       "      <th></th>\n",
       "      <th>class_name</th>\n",
       "      <th>p</th>\n",
       "      <th>q</th>\n",
       "    </tr>\n",
       "  </thead>\n",
       "  <tbody>\n",
       "    <tr>\n",
       "      <th>0</th>\n",
       "      <td>benefit_search-lab_services-2</td>\n",
       "      <td>0.508607</td>\n",
       "      <td>How much does lab services cost to me?</td>\n",
       "    </tr>\n",
       "    <tr>\n",
       "      <th>1</th>\n",
       "      <td>benefit_search-lab_services-1</td>\n",
       "      <td>0.490264</td>\n",
       "      <td>Which plan(s) cover lab services?</td>\n",
       "    </tr>\n",
       "    <tr>\n",
       "      <th>2</th>\n",
       "      <td>benefit_search-preventive_care-2</td>\n",
       "      <td>0.000061</td>\n",
       "      <td>How much does preventive benefits cost to me?</td>\n",
       "    </tr>\n",
       "    <tr>\n",
       "      <th>3</th>\n",
       "      <td>benefit_search-preventive_care-1</td>\n",
       "      <td>0.000061</td>\n",
       "      <td>Which plan(s) cover preventive benefits?</td>\n",
       "    </tr>\n",
       "    <tr>\n",
       "      <th>4</th>\n",
       "      <td>benefit_search-outpatient_other_organ_systems_...</td>\n",
       "      <td>0.000047</td>\n",
       "      <td>How much does outpatient hospital services cos...</td>\n",
       "    </tr>\n",
       "  </tbody>\n",
       "</table>\n",
       "</div>"
      ],
      "text/plain": [
       "                                          class_name         p  \\\n",
       "0                      benefit_search-lab_services-2  0.508607   \n",
       "1                      benefit_search-lab_services-1  0.490264   \n",
       "2                   benefit_search-preventive_care-2  0.000061   \n",
       "3                   benefit_search-preventive_care-1  0.000061   \n",
       "4  benefit_search-outpatient_other_organ_systems_...  0.000047   \n",
       "\n",
       "                                                   q  \n",
       "0             How much does lab services cost to me?  \n",
       "1                  Which plan(s) cover lab services?  \n",
       "2      How much does preventive benefits cost to me?  \n",
       "3           Which plan(s) cover preventive benefits?  \n",
       "4  How much does outpatient hospital services cos...  "
      ]
     },
     "execution_count": 19,
     "metadata": {},
     "output_type": "execute_result"
    }
   ],
   "source": [
    "%%time\n",
    "i = model.preprocess_input('blood count')\n",
    "i = {k: v.unsqueeze(0) for k, v in i.items()}\n",
    "o = model(i).cpu().detach().numpy()\n",
    "idx = o.argsort(axis=1)\n",
    "\n",
    "\n",
    "preds = []\n",
    "for e in idx[0,-5:][::-1]:\n",
    "    temp_dict = {}\n",
    "    temp_dict['class_name'] = l_encoder.classes_[e]\n",
    "    temp_dict['p'] = o[0,e]\n",
    "    temp_dict['q'] = df[df.question_id==temp_dict['class_name']]['question_description'].values[0]\n",
    "    preds.append(temp_dict)\n",
    "    # print(f\"{class_name}: {p:%} q: {q}\")\n",
    "    \n",
    "preds_df = pd.DataFrame(preds)\n",
    "preds_df.head()"
   ]
  }
 ],
 "metadata": {
  "kernelspec": {
   "display_name": "Python 3.8.10 ('.env': venv)",
   "language": "python",
   "name": "python3"
  },
  "language_info": {
   "codemirror_mode": {
    "name": "ipython",
    "version": 3
   },
   "file_extension": ".py",
   "mimetype": "text/x-python",
   "name": "python",
   "nbconvert_exporter": "python",
   "pygments_lexer": "ipython3",
   "version": "3.8.10"
  },
  "orig_nbformat": 4,
  "vscode": {
   "interpreter": {
    "hash": "97e32ed2c1f3abd45698da4d152fbdc4beb8bc3fa5c12b06d3cc23a6a3ee02e5"
   }
  }
 },
 "nbformat": 4,
 "nbformat_minor": 2
}
